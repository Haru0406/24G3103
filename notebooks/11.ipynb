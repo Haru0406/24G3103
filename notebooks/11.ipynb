{
  "cells": [
    {
      "cell_type": "markdown",
      "source": [
        "# 動的計画法"
      ],
      "metadata": {
        "id": "E8qvWisazVTm"
      },
      "id": "E8qvWisazVTm"
    },
    {
      "cell_type": "markdown",
      "source": [],
      "metadata": {
        "id": "wP3jy4IQzVTu"
      },
      "id": "wP3jy4IQzVTu"
    },
    {
      "cell_type": "markdown",
      "source": [
        "## 動的計画法とは：問題にチャレンジする前に"
      ],
      "metadata": {
        "id": "yQ-grYv0zVTv"
      },
      "id": "yQ-grYv0zVTv"
    },
    {
      "cell_type": "markdown",
      "source": [
        "\n",
        "問題：[ALDS1_5_A](https://onlinejudge.u-aizu.ac.jp/courses/lesson/1/ALDS1/5/ALDS1_5_A) (Exhaustive Search)"
      ],
      "metadata": {
        "id": "hkb94uD4zVTw"
      },
      "id": "hkb94uD4zVTw"
    },
    {
      "cell_type": "code",
      "execution_count": 5,
      "metadata": {
        "id": "nth0rI68zVTx",
        "outputId": "286ee6e7-5e69-465b-c2fb-dfbc93e11cc5",
        "colab": {
          "base_uri": "https://localhost:8080/"
        }
      },
      "outputs": [
        {
          "output_type": "stream",
          "name": "stdout",
          "text": [
            "Overwriting input.dat\n"
          ]
        }
      ],
      "source": [
        "%%writefile input.dat\n",
        "5\n",
        "1 5 7 10 21\n",
        "4\n",
        "2 4 17 8"
      ],
      "id": "nth0rI68zVTx"
    },
    {
      "cell_type": "markdown",
      "source": [
        "### 以前の方法"
      ],
      "metadata": {
        "id": "6sh-TtwhzVTz"
      },
      "id": "6sh-TtwhzVTz"
    },
    {
      "cell_type": "code",
      "execution_count": 6,
      "metadata": {
        "colab": {
          "base_uri": "https://localhost:8080/"
        },
        "id": "jyNb12zlzVTz",
        "outputId": "545859ad-f972-4234-8b0d-885ecd7236f6"
      },
      "outputs": [
        {
          "output_type": "stream",
          "name": "stdout",
          "text": [
            "Writing test.py\n"
          ]
        }
      ],
      "source": [
        "%%writefile test.py\n",
        "def solve(i, m):\n",
        "  if m == 0: return True\n",
        "  if i >= n: return False\n",
        "  tmp = solve(i + 1, m) or solve(i + 1, m - A[i])\n",
        "  return tmp\n",
        "\n",
        "n = int(input())\n",
        "A = list(map(int, input().split()))\n",
        "q = int(input())\n",
        "m = list(map(int, input().split()))\n",
        "\n",
        "for x in m: print('yes' if solve(0, x) else 'no')"
      ],
      "id": "jyNb12zlzVTz"
    },
    {
      "cell_type": "code",
      "execution_count": null,
      "metadata": {
        "id": "8AG6ZIf9zVT0"
      },
      "outputs": [],
      "source": [
        "!python3 test.py < input.dat"
      ],
      "id": "8AG6ZIf9zVT0"
    },
    {
      "cell_type": "markdown",
      "source": [
        "### メモ化"
      ],
      "metadata": {
        "id": "Sa1qGBMSzVT2"
      },
      "id": "Sa1qGBMSzVT2"
    },
    {
      "cell_type": "markdown",
      "source": [
        "\n",
        "同じ計算を何度もする無駄を省くために，solveの結果を記憶することにする（**メモ化**，memoization）。"
      ],
      "metadata": {
        "id": "_9-R0924zVT2"
      },
      "id": "_9-R0924zVT2"
    },
    {
      "cell_type": "markdown",
      "source": [
        "#### ライブラリを使う"
      ],
      "metadata": {
        "id": "A0LAnLE2zVT3"
      },
      "id": "A0LAnLE2zVT3"
    },
    {
      "cell_type": "markdown",
      "source": [
        "\n",
        "定義の前に次のコードを追加すると，その関数がメモ化される。"
      ],
      "metadata": {
        "id": "hpQW4EsYzVT3"
      },
      "id": "hpQW4EsYzVT3"
    },
    {
      "cell_type": "code",
      "execution_count": 7,
      "metadata": {
        "id": "LqpxxASazVT4",
        "outputId": "493f9dda-99d4-4f1e-b833-f85d405287e4",
        "colab": {
          "base_uri": "https://localhost:8080/"
        }
      },
      "outputs": [
        {
          "output_type": "stream",
          "name": "stdout",
          "text": [
            "Overwriting test.py\n"
          ]
        }
      ],
      "source": [
        "%%writefile test.py\n",
        "from functools import cache\n",
        "\n",
        "@cache\n",
        "\n",
        "n = int(input())\n",
        "A = list(map(int, input().split()))\n",
        "q = int(input())\n",
        "m = list)map(int, input().split()))\n",
        "\n",
        "for x in m; print('yes' if solve(0,x) else'no')"
      ],
      "id": "LqpxxASazVT4"
    },
    {
      "cell_type": "code",
      "execution_count": null,
      "metadata": {
        "id": "cMti7_ymzVT5"
      },
      "outputs": [],
      "source": [
        "!python3 test.py < input.dat"
      ],
      "id": "cMti7_ymzVT5"
    },
    {
      "cell_type": "markdown",
      "source": [
        "#### 自分で実装する"
      ],
      "metadata": {
        "id": "b3IdeKQ8zVT5"
      },
      "id": "b3IdeKQ8zVT5"
    },
    {
      "cell_type": "code",
      "execution_count": null,
      "metadata": {
        "id": "Q71Va7mgzVT5"
      },
      "outputs": [],
      "source": [
        "%%writefile test.py\n",
        "dp = {} # 変更点1：結果を記録するための辞書\n",
        "\n",
        "def solve(i, m):\n",
        "  # 変更点2：辞書に入っているならそれを返す。\n",
        "  if m == 0: return True\n",
        "  if i >= n: return False\n",
        "  tmp = solve(i + 1, m) or solve(i + 1, m - A[i])\n",
        "  # 変更点3：辞書に入れる。\n",
        "  return tmp\n",
        "\n",
        "n = int(input())\n",
        "A = list(map(int, input().split()))\n",
        "q = int(input())\n",
        "m = list(map(int, input().split()))\n",
        "\n",
        "for x in m: print('yes' if solve(0, x) else 'no')"
      ],
      "id": "Q71Va7mgzVT5"
    },
    {
      "cell_type": "code",
      "execution_count": null,
      "metadata": {
        "id": "wBD6jXbzzVT6"
      },
      "outputs": [],
      "source": [
        "!python3 test.py < input.dat"
      ],
      "id": "wBD6jXbzzVT6"
    },
    {
      "cell_type": "markdown",
      "source": [
        "## フィボナッチ数列"
      ],
      "metadata": {
        "id": "iiYV0YzBzVT7"
      },
      "id": "iiYV0YzBzVT7"
    },
    {
      "cell_type": "markdown",
      "source": [
        "\n",
        "問題：[ALDS1_10_A](https://onlinejudge.u-aizu.ac.jp/courses/lesson/1/ALDS1/10/ALDS1_10_A) (Fibonacci Numbers)\n",
        "\n",
        "<img src=\"https://ndlsearch.ndl.go.jp/thumbnail/9784794964540.jpg\" width=\"150\"/> エンツェンスベルガー『数の悪魔』（晶文社, 2000）\n",
        "\n",
        "フィボナッチ数列の定義には二つの流儀がある。\n",
        "\n",
        "-   定義1: $f_n = f_{n-1} + f_{n-2},\\quad f_0 = 1,\\quad f_1 = 1.$\n",
        "-   定義2: $F_n = F_{n-1} + F_{n-2},\\quad F_0 = 0,\\quad F_1 = 1.$\n",
        "\n",
        "教科書で採用しているのは定義1だが，定義2の方が良い。$f_n=F_{n+1}$ で相互に変換できるから，どちらでもよいと思うかもしれないが，フィボナッチ数列に関する有名な定理で，定義2でしか成り立たないものがある。例えば，$\\mathrm{gcd}(F_m, F_n)=F_{\\mathrm{gcd}(m, n)}$ は，定義2でしか成り立たない（$m=3, n=6$ として試してみよ）。\n",
        "\n",
        "そこでこの資料では，定義2の$F_n$ を求める方法を実装して，$f_n=F_{n+1}$ から $f_n$ を求めることにする。\n",
        "\n",
        "フィボナッチ数列に関する話題。★はAizu Online Judgeで使えるもの（NumPyやSymPyを使うコードは使えない）。\n",
        "\n",
        "-   再帰\n",
        "    -   単純な実装★\n",
        "    -   メモ化\n",
        "        -   ライブラリ★\n",
        "        -   自分で書く★\n",
        "-   ループ★\n",
        "-   ♠漸化式を解く\n",
        "    -   数式処理\n",
        "    -   紙とペン（**高校数学**）★\n",
        "-   ♠行列の累乗\n",
        "    -   NumPy\n",
        "    -   対角化（**線形代数**）\n",
        "        -   数式処理\n",
        "        -   紙とペン★\n",
        "-   ♠母関数（**微分積分**）\n",
        "    -   テイラー近似式\n",
        "    -   整数計算★\n",
        "-   ♠アート\n",
        "\n",
        "$f_{10}=F_{11}=89$ を確認しながら進める。"
      ],
      "metadata": {
        "id": "xgRmNSHLzVT7"
      },
      "id": "xgRmNSHLzVT7"
    },
    {
      "cell_type": "markdown",
      "source": [
        "### 再帰"
      ],
      "metadata": {
        "id": "hgYBTnRxzVT7"
      },
      "id": "hgYBTnRxzVT7"
    },
    {
      "cell_type": "markdown",
      "source": [],
      "metadata": {
        "id": "6vUdHiINzVT7"
      },
      "id": "6vUdHiINzVT7"
    },
    {
      "cell_type": "markdown",
      "source": [
        "#### 単純な実装★"
      ],
      "metadata": {
        "id": "b7SZrh3_zVT8"
      },
      "id": "b7SZrh3_zVT8"
    },
    {
      "cell_type": "code",
      "execution_count": 8,
      "metadata": {
        "colab": {
          "base_uri": "https://localhost:8080/"
        },
        "id": "wLJQvCNrzVT8",
        "outputId": "f533d6d6-c668-44a6-e96a-23e383549099"
      },
      "outputs": [
        {
          "output_type": "stream",
          "name": "stdout",
          "text": [
            "Overwriting test.py\n"
          ]
        }
      ],
      "source": [
        "%%writefile test.py\n",
        "def fibonacci(n):\n",
        "  if n <=1: return n   # n <= 1 なら n を返す。\n",
        "  return fibonacci(n - 1) + fibonacci(n - 2)# 再帰的に計算した結果を返す。\n",
        "n = int(input())\n",
        "print(fibonacci(n + 1)) # f(n) = F(n + 1)"
      ],
      "id": "wLJQvCNrzVT8"
    },
    {
      "cell_type": "code",
      "execution_count": 9,
      "metadata": {
        "colab": {
          "base_uri": "https://localhost:8080/"
        },
        "id": "3Ahn6psNzVT8",
        "outputId": "6701fd7f-315b-4e24-d4d0-c3ef61c2b894"
      },
      "outputs": [
        {
          "output_type": "stream",
          "name": "stdout",
          "text": [
            "89\n"
          ]
        }
      ],
      "source": [
        "!echo 10 | python3 test.py"
      ],
      "id": "3Ahn6psNzVT8"
    },
    {
      "cell_type": "markdown",
      "source": [
        "うまく行ったら提出してみる。"
      ],
      "metadata": {
        "id": "N0E0zYhPzVT8"
      },
      "id": "N0E0zYhPzVT8"
    },
    {
      "cell_type": "markdown",
      "source": [
        "#### メモ化"
      ],
      "metadata": {
        "id": "N5FfiHhNzVT9"
      },
      "id": "N5FfiHhNzVT9"
    },
    {
      "cell_type": "markdown",
      "source": [],
      "metadata": {
        "id": "8_tCcN4azVT9"
      },
      "id": "8_tCcN4azVT9"
    },
    {
      "cell_type": "markdown",
      "source": [
        "##### ライブラリ★"
      ],
      "metadata": {
        "id": "EZ6Jhg6gzVT9"
      },
      "id": "EZ6Jhg6gzVT9"
    },
    {
      "cell_type": "code",
      "execution_count": null,
      "metadata": {
        "id": "ZITzNjBHzVT9"
      },
      "outputs": [],
      "source": [
        "%%writefile test.py\n",
        "from functools import cache\n",
        "\n",
        "@cache\n",
        "後は同じ"
      ],
      "id": "ZITzNjBHzVT9"
    },
    {
      "cell_type": "code",
      "execution_count": null,
      "metadata": {
        "id": "CJlI52yXzVT9"
      },
      "outputs": [],
      "source": [
        "!echo 10 | python3 test.py"
      ],
      "id": "CJlI52yXzVT9"
    },
    {
      "cell_type": "markdown",
      "source": [
        "うまく行ったら提出してみる。"
      ],
      "metadata": {
        "id": "JPLt0JUYzVT-"
      },
      "id": "JPLt0JUYzVT-"
    },
    {
      "cell_type": "markdown",
      "source": [
        "##### 自分で書く★"
      ],
      "metadata": {
        "id": "WGrznQIlzVT-"
      },
      "id": "WGrznQIlzVT-"
    },
    {
      "cell_type": "markdown",
      "source": [
        "\n",
        "一度計算した結果を辞書に記録する。（フィボナッチ数列の場合は，番号が0, 1, 2, … のように等間隔だから，リストを使ってもよい。）"
      ],
      "metadata": {
        "id": "HV8-6iTFzVT-"
      },
      "id": "HV8-6iTFzVT-"
    },
    {
      "cell_type": "code",
      "execution_count": 12,
      "metadata": {
        "id": "GMfsV9mkzVT-",
        "outputId": "243448e3-9deb-445a-f77c-c9569c6b546f",
        "colab": {
          "base_uri": "https://localhost:8080/"
        }
      },
      "outputs": [
        {
          "output_type": "stream",
          "name": "stdout",
          "text": [
            "Overwriting test.py\n"
          ]
        }
      ],
      "source": [
        "%%writefile test.py\n",
        "F = {}\n",
        "\n",
        "def fibonacci(n):\n",
        "  if n in F: return F[n]\n",
        "  if n <= 1: return n\n",
        "  tmp = fibonacci(n - 2) + fibonacci(n - 1)\n",
        "  F[n] = tmp\n",
        "  return tmp\n",
        "\n",
        "n = int(input())\n",
        "print(fibonacci(n + 1))"
      ],
      "id": "GMfsV9mkzVT-"
    },
    {
      "cell_type": "code",
      "execution_count": 13,
      "metadata": {
        "id": "L9txAkCuzVT-",
        "outputId": "fb167e5a-e3d7-4fec-9752-f075d3091201",
        "colab": {
          "base_uri": "https://localhost:8080/"
        }
      },
      "outputs": [
        {
          "output_type": "stream",
          "name": "stdout",
          "text": [
            "89\n"
          ]
        }
      ],
      "source": [
        "!echo 10 | python3 test.py"
      ],
      "id": "L9txAkCuzVT-"
    },
    {
      "cell_type": "markdown",
      "source": [
        "### ループ"
      ],
      "metadata": {
        "id": "RAzrZFgVzVT-"
      },
      "id": "RAzrZFgVzVT-"
    },
    {
      "cell_type": "code",
      "execution_count": 14,
      "metadata": {
        "id": "6Ce1uE_VzVT_",
        "outputId": "213510a7-30a0-43d5-ccf7-d6907fde6644",
        "colab": {
          "base_uri": "https://localhost:8080/"
        }
      },
      "outputs": [
        {
          "output_type": "stream",
          "name": "stdout",
          "text": [
            "Overwriting test.py\n"
          ]
        }
      ],
      "source": [
        "%%writefile test.py\n",
        "def fibonacci(n):\n",
        "  a, b = 0, 1\n",
        "  for i in return(n - 1): a, b = b, a + b\n",
        "  return b\n",
        "\n",
        "n = int(input())\n",
        "print(fibonacci(n + 1))"
      ],
      "id": "6Ce1uE_VzVT_"
    },
    {
      "cell_type": "code",
      "execution_count": 15,
      "metadata": {
        "id": "0aIh5kHQzVT_",
        "outputId": "d99b0964-2b3d-41a9-e75e-464e61a57009",
        "colab": {
          "base_uri": "https://localhost:8080/"
        }
      },
      "outputs": [
        {
          "output_type": "stream",
          "name": "stdout",
          "text": [
            "  File \"/content/test.py\", line 3\n",
            "    for i in return(n - 1): a, b = b, a + b\n",
            "             ^^^^^^\n",
            "SyntaxError: invalid syntax\n"
          ]
        }
      ],
      "source": [
        "!echo 10 | python3 test.py"
      ],
      "id": "0aIh5kHQzVT_"
    },
    {
      "cell_type": "markdown",
      "source": [
        "### ♠漸化式を解く"
      ],
      "metadata": {
        "id": "jRuYcX2SzVT_"
      },
      "id": "jRuYcX2SzVT_"
    },
    {
      "cell_type": "markdown",
      "source": [
        "\n",
        "次の三項間漸化式を解く。\n",
        "$$F_n = F_{n-1} + F_{n-2},\\quad F_0 = 0,\\quad F_1 = 1.$$"
      ],
      "metadata": {
        "id": "TmaETLdFzVUS"
      },
      "id": "TmaETLdFzVUS"
    },
    {
      "cell_type": "markdown",
      "source": [
        "#### 数式処理"
      ],
      "metadata": {
        "id": "fUij0-61zVUT"
      },
      "id": "fUij0-61zVUT"
    },
    {
      "cell_type": "markdown",
      "source": [
        "\n",
        "数式処理で正確に解く（[WolframAlpha](https://www.wolframalpha.com/input?i=F%28n%29%3DF%28n-1%29%2BF%28n-2%29%2CF%280%29%3D0%2CF%281%29%3D1&lang=ja)）。\n",
        "\n",
        "Python（SymPy）なら，`rsolve`に`左辺 = 0`あるいは`Eq(左辺, 右辺)`の形式で漸化式を与える。"
      ],
      "metadata": {
        "id": "xNsbyCptzVUT"
      },
      "id": "xNsbyCptzVUT"
    },
    {
      "cell_type": "code",
      "execution_count": null,
      "metadata": {
        "id": "9vBpxnJRzVUT"
      },
      "outputs": [],
      "source": [
        "from sympy import *\n",
        "\n",
        "F = Function('F')\n",
        "var('n')\n",
        "result = rsolve(F(n) - F(n-1) - F(n-2), F(n), {F(0): 0, F(1): 1})\n",
        "#result = rsolve(Eq(F(n), F(n-1) + F(n-2)), F(n), {F(0): 0, F(1): 1})"
      ],
      "id": "9vBpxnJRzVUT"
    },
    {
      "cell_type": "markdown",
      "source": [
        "`n`に $0$ から $11$ までの数を代入して，正しいことを確かめる。"
      ],
      "metadata": {
        "id": "ZeVEIf4ezVUT"
      },
      "id": "ZeVEIf4ezVUT"
    },
    {
      "cell_type": "code",
      "execution_count": null,
      "metadata": {
        "id": "4ORfcPRqzVUT"
      },
      "outputs": [],
      "source": [
        "[simplify(result.subs(n, i)) for i in range(12)]"
      ],
      "id": "4ORfcPRqzVUT"
    },
    {
      "cell_type": "markdown",
      "source": [
        "#### 紙とペン（**高校数学**）"
      ],
      "metadata": {
        "id": "40txB3sHzVUU"
      },
      "id": "40txB3sHzVUU"
    },
    {
      "cell_type": "markdown",
      "source": [
        "\n",
        "漸化式の特性方程式は\n",
        "$$x^2-x-1=0$$\n",
        "で，解は $\\dfrac{1\\pm\\sqrt{5}}{2}$ である。特性方程式が異なる解 $\\alpha, \\beta$ をもつとき，漸化式の一般項は $A, B$ を定数として，\n",
        "$$F_n=A\\alpha^n+B\\beta^n$$\n",
        "と書ける（**高校数学の参考書等を参照**）。特性方程式の解を $\\alpha:=\\dfrac{1+\\sqrt{5}}{2}$，$\\beta:=\\dfrac{1-\\sqrt{5}}{2}$ として，$F_0=0, F_1=1$ となるように $A, B$ を定めると，\n",
        "$$F_n=\\dfrac{1}{\\sqrt 5}(\\alpha^n-\\beta^n)$$\n",
        "となる（連立方程式 $A+B=0, A\\alpha+B\\beta=1$ の解は $A=1/\\sqrt{5}, B=-1/\\sqrt{5}$）。\n",
        "\n",
        "この結果を使って正確に計算する。"
      ],
      "metadata": {
        "id": "P5rIi7FQzVUU"
      },
      "id": "P5rIi7FQzVUU"
    },
    {
      "cell_type": "code",
      "execution_count": null,
      "metadata": {
        "id": "745BhphCzVUU"
      },
      "outputs": [],
      "source": [
        "from sympy import *\n",
        "\n",
        "def fibonacci(n):\n",
        "  alpha = (1 + sqrt(5)) / 2\n",
        "  beta  = (1 - sqrt(5)) / 2\n",
        "  return simplify((alpha**n - beta**n) / sqrt(5))\n",
        "\n",
        "print(fibonacci(10 + 1))"
      ],
      "id": "745BhphCzVUU"
    },
    {
      "cell_type": "markdown",
      "source": [
        "問題の制約は $n\\le 44$ で，このくらいなら数値計算（近似計算）でも正しい結果が得られる。♠問われているのが $f_{44}=F_{45}$ までなのは，32ビット整数の最大値 $2^{31}-1=2147483647$ を意識してのことだろう。$F_{47}=2971215073$（$=f_{46}$） が32ビット整数の範囲を超える。これを超えてもPythonなら問題なく計算できるが，C言語やC++では注意が必要になる。\n",
        "\n",
        "次のコードなら，Aizu Online Judgeで提出できる。"
      ],
      "metadata": {
        "id": "9lxOw3o5zVUU"
      },
      "id": "9lxOw3o5zVUU"
    },
    {
      "cell_type": "code",
      "execution_count": null,
      "metadata": {
        "id": "tvha6TH0zVUU"
      },
      "outputs": [],
      "source": [
        "%%writefile test.py\n",
        "def fibonacci(n):\n",
        "  alpha = (1 + 5**0.5) / 2\n",
        "  beta  = (1 - 5**0.5) / 2\n",
        "  return round((alpha**n - beta**n) / 5**0.5)\n",
        "\n",
        "n = int(input())\n",
        "print(fibonacci(n + 1))"
      ],
      "id": "tvha6TH0zVUU"
    },
    {
      "cell_type": "code",
      "execution_count": null,
      "metadata": {
        "id": "mpP7jiyozVUV"
      },
      "outputs": [],
      "source": [
        "!echo 10 | python3 test.py"
      ],
      "id": "mpP7jiyozVUV"
    },
    {
      "cell_type": "markdown",
      "source": [
        "♠数値計算で最初にうまく行かなくなるのは $f_{70}=F_{71}=308061521170129$ である。"
      ],
      "metadata": {
        "id": "hQQ8Aww4zVUV"
      },
      "id": "hQQ8Aww4zVUV"
    },
    {
      "cell_type": "code",
      "execution_count": null,
      "metadata": {
        "id": "pdQgUbhyzVUV"
      },
      "outputs": [],
      "source": [
        "# 浮動小数点数による近似計算\n",
        "def f1(n):\n",
        "  alpha = (1 + 5**0.5) / 2\n",
        "  beta  = (1 - 5**0.5) / 2\n",
        "  return round((alpha**n - beta**n) / 5**0.5) # roundで整数にする。\n",
        "\n",
        "from sympy import sqrt, simplify\n",
        "\n",
        "# 数式処理による厳密計算\n",
        "def f2(n):\n",
        "  alpha = (1 + sqrt(5)) / 2\n",
        "  beta  = (1 - sqrt(5)) / 2\n",
        "  return simplify((alpha**n - beta**n) / sqrt(5))\n",
        "\n",
        "n = 0\n",
        "while True:\n",
        "  v1, v2 = f1(n + 1), f2(n + 1)\n",
        "  if v1 != v2:\n",
        "    print(f'{n = }')\n",
        "    print(f'近似計算：{v1}')\n",
        "    print(f'厳密計算：{v2}')\n",
        "    break\n",
        "  n += 1"
      ],
      "id": "pdQgUbhyzVUV"
    },
    {
      "cell_type": "markdown",
      "source": [
        "♠問題：[049 - Fibonacci Easy (mod 1000000007)](https://atcoder.jp/contests/math-and-algorithm/tasks/math_and_algorithm_ap)\n",
        "\n",
        "これまでに学んだ手法から，適切なものを選べば解ける。"
      ],
      "metadata": {
        "id": "ilfnFbyZzVUV"
      },
      "id": "ilfnFbyZzVUV"
    },
    {
      "cell_type": "code",
      "execution_count": null,
      "metadata": {
        "id": "PZHNNzvLzVUV"
      },
      "outputs": [],
      "source": [
        "%%writefile test.py\n",
        "#自分で書く"
      ],
      "id": "PZHNNzvLzVUV"
    },
    {
      "cell_type": "code",
      "execution_count": null,
      "metadata": {
        "id": "MZnj-nX7zVUW"
      },
      "outputs": [],
      "source": [
        "!echo 8691200 | python3 test.py"
      ],
      "id": "MZnj-nX7zVUW"
    },
    {
      "cell_type": "markdown",
      "source": [
        "### ♠行列の累乗"
      ],
      "metadata": {
        "id": "JS8cgbifzVUW"
      },
      "id": "JS8cgbifzVUW"
    },
    {
      "cell_type": "markdown",
      "source": [
        "\n",
        "フィボナッチ数列の漸化式は行列を使って\n",
        "$$\\begin{pmatrix}F_{n+1}&F_n\\\\F_{n}&F_{n-1}\\end{pmatrix}\n",
        "=\\begin{pmatrix}F_n+F_{n-1}&F_{n-1}+F_{n-2}\\\\F_n&F_{n-1}\\end{pmatrix}\n",
        "=\\begin{pmatrix}1&1\\\\1&0\\end{pmatrix}\\begin{pmatrix}F_n&F_{n-1}\\\\F_{n-1}&F_{n-2}\\end{pmatrix}\n",
        "=\\begin{pmatrix}1&1\\\\1&0\\end{pmatrix}^{n-1}\\begin{pmatrix}F_2&F_1\\\\F_1&F_0\\end{pmatrix}=\\begin{pmatrix}1&1\\\\1&0\\end{pmatrix}^n$$\n",
        "と表せる（$F_0=0, F_1=1, F_2=1$ に注意）。\n",
        "\n",
        "$A=\\begin{pmatrix}1&1\\\\1&0\\end{pmatrix}$とすると，$F_n$ は $A^n$ の $(1, 2)$ 成分が $F_n$ である。例えば，\n",
        "$$\\begin{pmatrix}F_3&F_2\\\\F_2&F_1\\end{pmatrix}\n",
        "=\\begin{pmatrix}1&1\\\\1&0\\end{pmatrix}^2\n",
        "=\\begin{pmatrix}2&1\\\\1&1\\end{pmatrix}$$\n",
        "だから，$F_2=1$ である。\n",
        "\n",
        "$F_{11}=f_{10}$ が欲しければ，$A^{11}$ の $(1, 2)$ 成分，あるいは，$A^{10}$ の $(1, 1)$ 成分を求めればよい。$A^{10}$ を直接計算するのは大変だから，[WolframAlphaを使う](https://www.wolframalpha.com/input?i=%7B%7B1%2C1%7D%2C%7B1%2C0%7D%7D%5E10&lang=ja)。\n",
        "\n",
        "Python（NumPy）では，行列の累乗は`np.linalg.matrix_power(A, n)`で計算する。`A**n`ではないことに注意。$(1, 2)$ 成分には`[0, 1]`でアクセスする。"
      ],
      "metadata": {
        "id": "0NouJ2R3zVUW"
      },
      "id": "0NouJ2R3zVUW"
    },
    {
      "cell_type": "code",
      "execution_count": null,
      "metadata": {
        "id": "fTUWzMWtzVUX"
      },
      "outputs": [],
      "source": [
        "import numpy as np\n",
        "\n",
        "A = np.array([[1, 1], [1, 0]])\n",
        "n = 2\n",
        "B = np.linalg.matrix_power(A, n)\n",
        "print(B)\n",
        "print(B[0, 1]) # B=A^nの(1, 2)成分\n",
        "\n",
        "n = 10 + 1\n",
        "B = np.linalg.matrix_power(A, n)\n",
        "print(B)\n",
        "print(B[0, 1])"
      ],
      "id": "fTUWzMWtzVUX"
    },
    {
      "cell_type": "markdown",
      "source": [
        "関数にすると次のとおり。"
      ],
      "metadata": {
        "id": "3vWzHECLzVUX"
      },
      "id": "3vWzHECLzVUX"
    },
    {
      "cell_type": "code",
      "execution_count": null,
      "metadata": {
        "id": "YNn9jvmJzVUX"
      },
      "outputs": [],
      "source": [
        "import numpy as np\n",
        "\n",
        "A = np.array([[1, 1], [1, 0]])\n",
        "\n",
        "def fibonacci(n):\n",
        "  return (np.linalg.matrix_power(A, n)[0, 1])\n",
        "\n",
        "print(fibonacci(10 + 1))"
      ],
      "id": "YNn9jvmJzVUX"
    },
    {
      "cell_type": "markdown",
      "source": [
        "#### ♠大きな数"
      ],
      "metadata": {
        "id": "-tTRT22AzVUX"
      },
      "id": "-tTRT22AzVUX"
    },
    {
      "cell_type": "markdown",
      "source": [
        "\n",
        "♠問題：[054 - Fibonacci Hard (mod 1000000000)](https://atcoder.jp/contests/math-and-algorithm/tasks/math_and_algorithm_at)）。\n",
        "\n",
        "NumPyの整数のデフォルトは64ビットだから，それを超える計算はできない。できたとしても，$F_{876543210987654321}$ のような大きな数の計算には時間がかかるだろう。次のような方法が考えられる（AtCoderではNumPyが使えるから，行列の乗算の実装の必要はない）。\n",
        "\n",
        "> Pythonの桁数無限の整数をラップして，乗算と加算をmod 10^9で行うオブジェクトを作る。それを要素とするNumPyの行列\\[\\[1,1\\],\\[1,0\\]\\]の876543210987654321乗の(1,2)成分を求めるコード"
      ],
      "metadata": {
        "id": "kAAaf71AzVUY"
      },
      "id": "kAAaf71AzVUY"
    },
    {
      "cell_type": "markdown",
      "source": [
        "#### 対角化（**線形代数**）"
      ],
      "metadata": {
        "id": "SnNrHcWLzVUY"
      },
      "id": "SnNrHcWLzVUY"
    },
    {
      "cell_type": "markdown",
      "source": [
        "\n",
        "行列の累乗は，対角化を使って計算する。\n",
        "\n",
        "$P=\\begin{pmatrix}\\beta&\\alpha\\\\1&1\\end{pmatrix}$, $D=\\begin{pmatrix}\\beta&0\\\\0&\\alpha\\end{pmatrix}$とすると，$P^{-1}=\\dfrac{1}{\\sqrt 5}\\begin{pmatrix}-1&\\alpha\\\\1&-\\beta\\end{pmatrix}$ で，$A$ は\n",
        "$$P^{-1}AP=D$$\n",
        "と対角化される。\n",
        "\n",
        "$A=PDP^{-1}$ だから，\n",
        "$$A^n=(PDP^{-1})^n=(PDP^{-1})\\cdots(PDP^{-1})=PD^nP^{-1}=\\dfrac{1}{\\sqrt 5}\\begin{pmatrix}\\alpha^{n+1}-\\beta^{n+1}&\\alpha^n-\\beta^n\\\\\\alpha^n-\\beta^n&\\alpha^{n-1}-\\beta^{n-1}\\end{pmatrix}$$\n",
        "となる。この $(1, 2)$ 成分が $F_n$ だから，\n",
        "$$F_n=\\dfrac{1}{\\sqrt 5}(\\alpha^{n}-\\beta^{n}).$$"
      ],
      "metadata": {
        "id": "3dloIU7HzVUY"
      },
      "id": "3dloIU7HzVUY"
    },
    {
      "cell_type": "markdown",
      "source": [
        "##### 数式処理"
      ],
      "metadata": {
        "id": "XfImpTqfzVUY"
      },
      "id": "XfImpTqfzVUY"
    },
    {
      "cell_type": "markdown",
      "source": [
        "\n",
        "[WolframAlphaで対角化](https://www.wolframalpha.com/input?i=diagonalize+%7B%7B1%2C1%7D%2C%7B1%2C0%7D%7D&lang=ja)\n",
        "\n",
        "Python（SymPy）なら，`diagonalize`（対角化）を使う。"
      ],
      "metadata": {
        "id": "kFd_H0UgzVUY"
      },
      "id": "kFd_H0UgzVUY"
    },
    {
      "cell_type": "code",
      "execution_count": null,
      "metadata": {
        "id": "CsiFLFfkzVUZ"
      },
      "outputs": [],
      "source": [
        "from sympy import *\n",
        "\n",
        "def fibonacci(x):\n",
        "  var('n')\n",
        "  A = Matrix([[1, 1], [1, 0]])\n",
        "  P, D = A.diagonalize()\n",
        "  A_n = P * D**n * P.inv()\n",
        "  return simplify(A_n[0, 1].subs(n, x)) # (1,2)成分のnを引数で置き換える。\n",
        "\n",
        "print(fibonacci(10 + 1))"
      ],
      "id": "CsiFLFfkzVUZ"
    },
    {
      "cell_type": "markdown",
      "source": [
        "##### 紙とペン"
      ],
      "metadata": {
        "id": "SeQ5fVgSzVUZ"
      },
      "id": "SeQ5fVgSzVUZ"
    },
    {
      "cell_type": "markdown",
      "source": [
        "\n",
        "**長崎憲一,\n",
        "横山利幸『明解 線形代数』（培風館, 改訂版, 2024）** の方法で対角化する。その結果として，漸化式の解と同じものを得て，漸化式の解を使ったコードと同じコードを書くことになる。♠$A$ は対称行列だから直交行列で対角化できるのだが，ここではそこまでしなくてよい（同書§23を参照）。"
      ],
      "metadata": {
        "id": "Yf9gzZHhzVUZ"
      },
      "id": "Yf9gzZHhzVUZ"
    },
    {
      "cell_type": "markdown",
      "source": [
        "### ♠母関数（**微分積分**）"
      ],
      "metadata": {
        "id": "eP4AfxXAzVUZ"
      },
      "id": "eP4AfxXAzVUZ"
    },
    {
      "cell_type": "markdown",
      "source": [
        "\n",
        "<img src=\"https://ndlsearch.ndl.go.jp/thumbnail/9784320124646.jpg\" width=\"150\"/> Graham, Knuth, Patashnik『コンピュータの数学』（共立出版, 第2版, 2020） 原題は『Concrete Mathematics』。連続（CONtinuous）と離散（disCRETE）のブレンドが大事だということである。\n",
        "\n",
        "> この本全体で最も重要な概念，すなわち，**母関数**（generating function）の概念に到達した。\n",
        "\n",
        "数列 $\\langle a_0, a_1, a_2, \\dots\\rangle$に対して，\n",
        "$$A(z):=\\sum_{k\\ge 0}a_kz^k=a_0+a_1z+a_2z^2+\\dots$$\n",
        "つまり，$z^k$ の係数が $a_k$ であるような $z$ の多項式（で表される関数）を，その数列の母関数という。"
      ],
      "metadata": {
        "id": "uY5hHuD2zVUZ"
      },
      "id": "uY5hHuD2zVUZ"
    },
    {
      "cell_type": "markdown",
      "source": [
        "#### 母関数の例"
      ],
      "metadata": {
        "id": "sPwvTOy0zVUa"
      },
      "id": "sPwvTOy0zVUa"
    },
    {
      "cell_type": "markdown",
      "source": [
        "\n",
        "$\\langle 1, 2, 3, 4,\\dots\\rangle$ （一般項は $a_n=n+1$）の母関数は $A(z)=\\dfrac{1}{(1-z)^2}$である。\n",
        "\n",
        "1.  数列から母関数へ\n",
        "    1.  定義に基づいて計算すると，$\\displaystyle\\sum_{k\\ge 0}(k+1)z^k=\\dfrac{1}{(1-z)^2}$ である（[WolframAlpha](https://www.wolframalpha.com/input?i=Sum+%28k%2B1%29z%5Ek%2C+k%3D0+to+infinity&lang=ja)）。\n",
        "    2.  母関数を求める機能を使う（[WolframAlpha](https://www.wolframalpha.com/input?i=GeneratingFunction%5B1%2Bk%2Ck%2Cz%5D&lang=ja)）。\n",
        "2.  母関数から数列へ\n",
        "    1.  母関数 $A$ の，$z=0$ におけるテイラー近似式の $z^n$ の係数が $a_n$ である。つまり，$a_n=\\dfrac{A^{(n)}(0)} {n!}$ で，この場合は $n+1$ になるはず（[WolframAlpha](https://www.wolframalpha.com/input?i=SeriesCoefficient%5B1%2F%281-z%29%5E2%2C%7Bz%2C0%2Cn%7D%5D&lang=ja)）。\n",
        "    2.  テイラー近似式を求める機能を使う（[WolframAlpha](https://www.wolframalpha.com/input?i=series+1%2F%281-z%29%5E2+at+z%3D0+to+order+10&lang=ja)）。\n",
        "\n",
        "テイラー近似式については，**長崎憲一ほか『明解 微分積分』（培風館, 改訂版, 2019）** の§9を参照。\n",
        "\n",
        "Python（SymPy）で1の1，つまり $\\displaystyle\\sum_{k\\ge 0}(k+1)z^k=\\dfrac{1}{(1-z)^2}$を確認する。"
      ],
      "metadata": {
        "id": "MxLV9J_ozVUa"
      },
      "id": "MxLV9J_ozVUa"
    },
    {
      "cell_type": "code",
      "execution_count": null,
      "metadata": {
        "id": "lJ756iu1zVUa"
      },
      "outputs": [],
      "source": [
        "from sympy import *\n",
        "\n",
        "var('k z')\n",
        "simplify(Sum((k + 1) * z**k, (k, 0, oo)).doit())"
      ],
      "id": "lJ756iu1zVUa"
    },
    {
      "cell_type": "markdown",
      "source": [
        "2の2，つまりテイラー近似式を確認する。"
      ],
      "metadata": {
        "id": "9c9C5piTzVUa"
      },
      "id": "9c9C5piTzVUa"
    },
    {
      "cell_type": "code",
      "execution_count": null,
      "metadata": {
        "id": "cbZZN5CfzVUa"
      },
      "outputs": [],
      "source": [
        "A = 1 / ((1 - z)**2)\n",
        "A.series(z, 0, 10)"
      ],
      "id": "cbZZN5CfzVUa"
    },
    {
      "cell_type": "markdown",
      "source": [
        "#### 母関数の応用例"
      ],
      "metadata": {
        "id": "O71Cx49AzVUb"
      },
      "id": "O71Cx49AzVUb"
    },
    {
      "cell_type": "markdown",
      "source": [
        "\n",
        "母関数には，今後さまざまなところで再会するだろう。\n",
        "\n",
        "-   統計学では，確率分布の性質を調べるのに母関数が使われる。\n",
        "-   離散数学では，漸化式や組合せを調べるのに使われる。\n",
        "\n",
        "例：1円，5円，10円，50円，100円硬貨を使って20円にする方法は何通りあるか。490円にする方法は？（使わない硬貨があってもよい。）\n",
        "\n",
        "母関数は次のとおり（前掲の『コンピュータの数学』を参照）。"
      ],
      "metadata": {
        "id": "Nm-lYCgvzVUb"
      },
      "id": "Nm-lYCgvzVUb"
    },
    {
      "cell_type": "code",
      "execution_count": null,
      "metadata": {
        "id": "so5AMq0LzVUb"
      },
      "outputs": [],
      "source": [
        "from sympy import *\n",
        "A = 1\n",
        "for k in [1, 5, 10, 50, 100]: A /= 1 - z**k\n",
        "A"
      ],
      "id": "so5AMq0LzVUb"
    },
    {
      "cell_type": "markdown",
      "source": [
        "$z=0$ におけるテイラー近似式の $z^{20}$ の係数が，20円にする方法の数である。"
      ],
      "metadata": {
        "id": "BFzQLKxtzVUb"
      },
      "id": "BFzQLKxtzVUb"
    },
    {
      "cell_type": "code",
      "execution_count": null,
      "metadata": {
        "id": "kOKK98VLzVUc"
      },
      "outputs": [],
      "source": [
        "n = 20\n",
        "print(A.series(z, 0, n + 1).coeff(z**n))"
      ],
      "id": "kOKK98VLzVUc"
    },
    {
      "cell_type": "markdown",
      "source": [
        "490円にする方法：[WolframAlpha](https://www.wolframalpha.com/input?i=SeriesCoefficient%5B1%2F%28%281-z%29%281-z%5E5%29%281-z%5E10%29%281-z%5E50%29%281-z%5E100%29%29%2C%7Bz%2C0%2C490%7D%5D&lang=ja)\n",
        "\n",
        "ただし，この方法を数式処理が無い環境で使うのは大変だし，数式処理があっても遅いと使えないという問題がある。そういう場合は，教科書17.1節のように，動的計画法を使うことになる。有名な問題だから，いろんな文献で紹介されている。例：https://github.com/okumuralab/algo-c/blob/main/src/change.c （奥村晴彦『C言語による標準アルゴリズム事典』（技術評論社, 改訂新版, 2018））のコードを実行してみる。"
      ],
      "metadata": {
        "id": "gT6Mts7zzVUc"
      },
      "id": "gT6Mts7zzVUc"
    },
    {
      "cell_type": "code",
      "execution_count": null,
      "metadata": {
        "id": "4olxBa-KzVUc"
      },
      "outputs": [],
      "source": [
        "%%bash\n",
        "wget -nc -q https://raw.githubusercontent.com/okumuralab/algo-c/refs/heads/main/src/change.c\n",
        "gcc change.c\n",
        "./a.out | head\n",
        "./a.out | tail"
      ],
      "id": "4olxBa-KzVUc"
    },
    {
      "cell_type": "markdown",
      "source": [
        "#### フィボナッチ数列の母関数"
      ],
      "metadata": {
        "id": "XIG8uqyCzVUc"
      },
      "id": "XIG8uqyCzVUc"
    },
    {
      "cell_type": "markdown",
      "source": [
        "\n",
        "フィボナッチ数列の母関数は $A(z)=\\dfrac{z}{1-z-z^2}$ である。理由：フィボナッチ数列 $\\langle0, 1, 1, 2,\\dots\\rangle$ の母関数を $A(z)$ とすると，\n",
        "$$(1-z-z^2)A(z)=A(z)-zA(z)-z^2A(z)=(F_0+F_1z+F_2z^2+\\cdots)-(F_0z+F_1z^2+F_2z^2+\\cdots)-(F_0z^2+F_1z^3+F_2z^4+\\cdots)=F_0+(F_1-F_0)z+(F_2-F_1-F_0)z^2+\\cdots=z.$$\n",
        "\n",
        "1.  数列から母関数へ\n",
        "    1.  定義に基づいて計算すると，$\\displaystyle\\sum_{k\\ge 0}F_kz^k=\\dfrac{z}{1-z-z^2}$ である（[WolframAlpha](https://www.wolframalpha.com/input?i=Sum+Fibonacci%28k%29z%5Ek%2C+k%3D0+to+infinity&lang=ja)）。\n",
        "    2.  母関数を求める機能を使う（[WolframAlpha](https://www.wolframalpha.com/input?i=GeneratingFunction%5BFibonacci%5Bk%5D%2Ck%2Cz%5D&lang=ja)）。\n",
        "2.  母関数から数列へ\n",
        "    1.  母関数 $A$ の，$z=0$ におけるテイラー近似式の $z^n$ の係数が $a_n$ である。つまり，$a_n=\\dfrac{A^{(n)}(0)} {n!}$（[WolframAlpha](https://www.wolframalpha.com/input?i=SeriesCoefficient%5Bz%2F%281-z-z%5E2%29%2C%7Bz%2C0%2Cn%7D%5D&lang=ja)）。\n",
        "    2.  テイラー近似式を求める機能を使う（[WolframAlpha](https://www.wolframalpha.com/input?i=series+z%2F%281-z-z%5E2%29+at+z%3D0+to+order+10&lang=ja)）。"
      ],
      "metadata": {
        "id": "YCdsDN5dzVUc"
      },
      "id": "YCdsDN5dzVUc"
    },
    {
      "cell_type": "code",
      "execution_count": null,
      "metadata": {
        "id": "vPa28SiHzVUd"
      },
      "outputs": [],
      "source": [
        "from sympy import *\n",
        "\n",
        "def fibonacci(n):\n",
        "  var('z')\n",
        "  A = z / (1 - z - z**2)\n",
        "  return diff(A, z, n).subs(z, 0) / factorial(n)\n",
        "  #return A.series(z, 0, n + 1).coeff(z**n)\n",
        "\n",
        "print(fibonacci(10 + 1))"
      ],
      "id": "vPa28SiHzVUd"
    },
    {
      "cell_type": "markdown",
      "source": [
        "#### 整数計算"
      ],
      "metadata": {
        "id": "wNRI3xytzVUd"
      },
      "id": "wNRI3xytzVUd"
    },
    {
      "cell_type": "markdown",
      "source": [
        "\n",
        "数式処理（PyhtonならSymPy）があれば，母関数のテイラー近似式からフィボナッチ数列を求められる。しかし，Aizu Online Judgeのように，SymPyが使えない環境もある。ここでは，そういう環境でも使える，母関数の活用法を紹介する。\n",
        "\n",
        "試しに，$A(\\frac{1}{100})$ を求めてみよう。"
      ],
      "metadata": {
        "id": "l3Aa9Nx6zVUd"
      },
      "id": "l3Aa9Nx6zVUd"
    },
    {
      "cell_type": "code",
      "execution_count": null,
      "metadata": {
        "id": "TLvpbx8zzVUd"
      },
      "outputs": [],
      "source": [
        "from sympy import *\n",
        "\n",
        "var('z')\n",
        "A = Lambda(z, z / (1 - z - z**2))\n",
        "N(A(Rational(1, 100)))"
      ],
      "id": "TLvpbx8zzVUd"
    },
    {
      "cell_type": "markdown",
      "source": [
        "2桁ずつ読んでいくと，0, 01, 01, 02, 03, 05, 08, 13, 21，とフィボナッチ数列になっている。このことは，$A(z)=F_0+F_1z+F_2z^2+\\dots$ だから，$A(\\frac{1}{100})$ が\n",
        "$$F_0+\\dfrac{F_1}{100}+\\dfrac{F_2}{10000}+\\dfrac{F_3}{1000000}+\\dots\n",
        "=0+\\dfrac{1}{100}+\\dfrac{1}{10000}+\\dfrac{2}{1000000}+\\dots\n",
        "=0.010102\\cdots$$\n",
        "となることから納得できる。\n",
        "\n",
        "例えば $F_3$ を知りたいときは，\n",
        "\n",
        "1.  $A(\\frac{1}{100})$ に$1000000=100^3$を掛けて，$10102.0\\dots$ として\n",
        "2.  整数部分だけ残して，$10102$ として，\n",
        "3.  $100$ で割った余りを求めて，$2$ を得る\n",
        "\n",
        "とすればよさそうである。\n",
        "\n",
        "しかし，試してみると，途中でうまく行かなくなる（$55$ の次は $89$ のはず）。"
      ],
      "metadata": {
        "id": "9XpVP6MdzVUd"
      },
      "id": "9XpVP6MdzVUd"
    },
    {
      "cell_type": "code",
      "execution_count": null,
      "metadata": {
        "id": "6bhLnnEvzVUe"
      },
      "outputs": [],
      "source": [
        "def fibonacci(n):\n",
        "  var('z')\n",
        "  A = Lambda(z, z / (1 - z - z**2))\n",
        "  p = 100\n",
        "  return int(p**n * A(Rational(1, p))) % p\n",
        "\n",
        "[fibonacci(n) for n in range(15)]"
      ],
      "id": "6bhLnnEvzVUe"
    },
    {
      "cell_type": "markdown",
      "source": [
        "うまく行かなくなるのは，$89$ の次が $144$（3桁）で，2桁ずつ読む方法では扱えないからである。\n",
        "\n",
        "対策として，$A(\\frac{1}{100})$ ではなく，$A(\\frac{1}{10^n})$ として，各数を表すのに使う桁数を増やしていく。そのために`100`を`10**n`に変える（このパラメータを $p$ とする）。実は $p$ はもっと小さくてもよい（例：$p=2^n+1$，あるいは，$p=2^{n+1}$）。"
      ],
      "metadata": {
        "id": "XlXTux7PzVUe"
      },
      "id": "XlXTux7PzVUe"
    },
    {
      "cell_type": "code",
      "execution_count": null,
      "metadata": {
        "id": "PZsP52LAzVUe"
      },
      "outputs": [],
      "source": [
        "def fibonacci(n):\n",
        "  var('z')\n",
        "  A = Lambda(z, z / (1 - z - z**2))\n",
        "  p = 10**n\n",
        "  return int(p**n * A(Rational(1, p))) % p\n",
        "\n",
        "[fibonacci(n) for n in range(15)]"
      ],
      "id": "PZsP52LAzVUe"
    },
    {
      "cell_type": "markdown",
      "source": [
        "$A(\\frac{1}{p})=\\dfrac{\\frac{1}{p}}{1-p-\\frac{1}{p^2}}$ の分母と分子に $p^2$ を掛けて $A(\\frac{1}{p})=\\dfrac{p}{p^2-p-1}$ とすると，計算しやすくなる。"
      ],
      "metadata": {
        "id": "kP_i3q24zVUe"
      },
      "id": "kP_i3q24zVUe"
    },
    {
      "cell_type": "code",
      "execution_count": null,
      "metadata": {
        "id": "aiZIkU__zVUe"
      },
      "outputs": [],
      "source": [
        "def fibonacci(n):\n",
        "  p = 10**n\n",
        "  return (p**n * p // (p**2 - p - 1)) % p\n",
        "\n",
        "[fibonacci(n) for n in range(15)]"
      ],
      "id": "aiZIkU__zVUe"
    },
    {
      "cell_type": "markdown",
      "source": [
        "これでオンラインジャッジも通るはずだが，もう少し工夫できる。まず，$F_n$ を求めるのに $10^n$ として 10進数で $n$ 桁使うのは無駄である。$2^{n+1}$ 程度でよい。"
      ],
      "metadata": {
        "id": "jEJAEIxbzVUe"
      },
      "id": "jEJAEIxbzVUe"
    },
    {
      "cell_type": "code",
      "execution_count": null,
      "metadata": {
        "id": "sdEbFxlKzVUe"
      },
      "outputs": [],
      "source": [
        "def fibonacci(n):\n",
        "  p = 2**(n + 1)\n",
        "  return (p**n * p // (p**2 - p - 1)) % p\n",
        "\n",
        "[fibonacci(n) for n in range(15)]"
      ],
      "id": "sdEbFxlKzVUe"
    },
    {
      "cell_type": "markdown",
      "source": [
        "さらに，累乗「`2**(n + 1)`」の代わりにビットシフト「`2 << n`」，剰余「`% p`」の代わりにビット論理積「`& (p - 1)`」を使って高速化を試みる。"
      ],
      "metadata": {
        "id": "SQdHTkxNzVUf"
      },
      "id": "SQdHTkxNzVUf"
    },
    {
      "cell_type": "code",
      "execution_count": null,
      "metadata": {
        "id": "UNB1CDdazVUf"
      },
      "outputs": [],
      "source": [
        "%%writefile test.py\n",
        "def fibonacci(n):\n",
        "  p = 2 << n\n",
        "  return ((p << (n * n + n)) // ((p << (n + 1)) - p - 1)) & (p - 1)\n",
        "\n",
        "n = int(input())\n",
        "print(fibonacci(n + 1))"
      ],
      "id": "UNB1CDdazVUf"
    },
    {
      "cell_type": "code",
      "execution_count": null,
      "metadata": {
        "id": "xkkuX2DYzVUf"
      },
      "outputs": [],
      "source": [
        "!echo 10 | python3 test.py"
      ],
      "id": "xkkuX2DYzVUf"
    },
    {
      "cell_type": "markdown",
      "source": [
        "### ♠アート"
      ],
      "metadata": {
        "id": "tHNfMCtGzVUf"
      },
      "id": "tHNfMCtGzVUf"
    },
    {
      "cell_type": "markdown",
      "source": [
        "\n",
        "フィボナッチ数列はアートにも使われる。特に，フィボナッチ数列の隣接2項の比 $\\dfrac{F_n}{F_{n-1}}$ は，$n$ が大きくなると**黄金比** $\\phi:=\\dfrac{1+\\sqrt 5}{2}$ に近づく。\n",
        "\n",
        "[フィボナッチ数（Wikipedia）](https://ja.wikipedia.org/wiki/%E3%83%95%E3%82%A3%E3%83%9C%E3%83%8A%E3%83%83%E3%83%81%E6%95%B0)"
      ],
      "metadata": {
        "id": "EA2wApkLzVUf"
      },
      "id": "EA2wApkLzVUf"
    },
    {
      "cell_type": "markdown",
      "source": [
        "## 最長共通部分列"
      ],
      "metadata": {
        "id": "eh6_HJq-zVUg"
      },
      "id": "eh6_HJq-zVUg"
    },
    {
      "cell_type": "markdown",
      "source": [],
      "metadata": {
        "id": "8bHLldqzzVUg"
      },
      "id": "8bHLldqzzVUg"
    },
    {
      "cell_type": "markdown",
      "source": [
        "### 準備：二次元配列の初期化方法"
      ],
      "metadata": {
        "id": "L3T7nc2ZzVUg"
      },
      "id": "L3T7nc2ZzVUg"
    },
    {
      "cell_type": "code",
      "execution_count": null,
      "metadata": {
        "id": "R46x3ZCizVUg"
      },
      "outputs": [],
      "source": [
        "# 悪い例\n",
        "A = [[0] * 3] * 4\n",
        "A"
      ],
      "id": "R46x3ZCizVUg"
    },
    {
      "cell_type": "markdown",
      "source": [
        "実体が同じリストを4個作ってしまう。一部を変えると全部変わる。"
      ],
      "metadata": {
        "id": "ONkYdhaIzVUg"
      },
      "id": "ONkYdhaIzVUg"
    },
    {
      "cell_type": "code",
      "execution_count": null,
      "metadata": {
        "id": "bH-yQWmxzVUg"
      },
      "outputs": [],
      "source": [
        "A[0][1] = 1\n",
        "A"
      ],
      "id": "bH-yQWmxzVUg"
    },
    {
      "cell_type": "code",
      "execution_count": null,
      "metadata": {
        "id": "kw21r8JAzVUh"
      },
      "outputs": [],
      "source": [
        "# 良い例\n",
        "A = [[0] * 3 for _ in range(4)]\n",
        "A"
      ],
      "id": "kw21r8JAzVUh"
    },
    {
      "cell_type": "code",
      "execution_count": null,
      "metadata": {
        "id": "K8UB4019zVUh"
      },
      "outputs": [],
      "source": [
        "A[0][1] = 1\n",
        "A"
      ],
      "id": "K8UB4019zVUh"
    },
    {
      "cell_type": "markdown",
      "source": [
        "### 本題"
      ],
      "metadata": {
        "id": "u-6asLsHzVUh"
      },
      "id": "u-6asLsHzVUh"
    },
    {
      "cell_type": "markdown",
      "source": [
        "\n",
        "問題：[ALDS1_10_C](https://onlinejudge.u-aizu.ac.jp/courses/lesson/1/ALDS1/10/ALDS1_10_C) (Longest Common Subsequence)"
      ],
      "metadata": {
        "id": "ei1OkNG7zVUh"
      },
      "id": "ei1OkNG7zVUh"
    },
    {
      "cell_type": "code",
      "execution_count": null,
      "metadata": {
        "id": "YbaQeTClzVUi"
      },
      "outputs": [],
      "source": [
        "%%writefile input.dat\n",
        "3\n",
        "abcbdab\n",
        "bdcaba\n",
        "abc\n",
        "abc\n",
        "abc\n",
        "bc"
      ],
      "id": "YbaQeTClzVUi"
    },
    {
      "cell_type": "markdown",
      "source": [
        "教科書に合わせて，1オリジンのコードを書く。"
      ],
      "metadata": {
        "id": "izriGzXPzVUi"
      },
      "id": "izriGzXPzVUi"
    },
    {
      "cell_type": "code",
      "execution_count": 16,
      "metadata": {
        "id": "BJMAch2OzVUi",
        "outputId": "bd8a4ea2-fcb2-45b2-97a4-16758219cc9c",
        "colab": {
          "base_uri": "https://localhost:8080/"
        }
      },
      "outputs": [
        {
          "output_type": "stream",
          "name": "stdout",
          "text": [
            "Overwriting test.py\n"
          ]
        }
      ],
      "source": [
        "%%writefile test.py\n",
        "def lcs(X, Y):\n",
        "  m, n = len(X), len(Y)\n",
        "  # 文字列Xを1オリジンにする（先頭は使わない）\n",
        "  # 文字列Yを1オリジンにする（先頭は使わない）\n",
        "  # c[i][j]の初期化。C[i][j]はX[1..i]とY[1..j]のLCSの長さ\n",
        "\n",
        "  # Xの文字についてのループ\n",
        "    # Yの文字についてのループ\n",
        "      # 自分で書く\n",
        "  return c[m][n]\n",
        "\n",
        "q = int(input())\n",
        "for _ in range(q):\n",
        "  s1 = input()\n",
        "  s2 = input()\n",
        "  print(lcs(s1, s2))"
      ],
      "id": "BJMAch2OzVUi"
    },
    {
      "cell_type": "code",
      "execution_count": 17,
      "metadata": {
        "id": "HkCGTK6ezVUi",
        "outputId": "01ec2416-0bb3-4b87-fa2a-09a7491c23f9",
        "colab": {
          "base_uri": "https://localhost:8080/"
        }
      },
      "outputs": [
        {
          "output_type": "stream",
          "name": "stdout",
          "text": [
            "Traceback (most recent call last):\n",
            "  File \"/content/test.py\", line 16, in <module>\n",
            "    print(lcs(s1, s2))\n",
            "          ^^^^^^^^^^^\n",
            "  File \"/content/test.py\", line 10, in lcs\n",
            "    return c[m][n]\n",
            "           ^\n",
            "NameError: name 'c' is not defined\n"
          ]
        }
      ],
      "source": [
        "!python3 test.py < input.dat"
      ],
      "id": "HkCGTK6ezVUi"
    },
    {
      "cell_type": "markdown",
      "source": [
        "TLEになる場合はPyPyを使う。あるいはC++に翻訳する。\n",
        "\n",
        "♠[F - LCS](https://atcoder.jp/contests/dp/tasks/dp_f)"
      ],
      "metadata": {
        "id": "onPoFNhlzVUi"
      },
      "id": "onPoFNhlzVUi"
    },
    {
      "cell_type": "markdown",
      "source": [
        "## 連鎖行列積"
      ],
      "metadata": {
        "id": "pSy40A_dzVUi"
      },
      "id": "pSy40A_dzVUi"
    },
    {
      "cell_type": "markdown",
      "source": [
        "\n",
        "問題：[ALDS1_10_B](https://onlinejudge.u-aizu.ac.jp/courses/lesson/1/ALDS1/10/ALDS1_10_B) (Matrix Chain Multiplication)"
      ],
      "metadata": {
        "id": "yBnNer8szVUi"
      },
      "id": "yBnNer8szVUi"
    },
    {
      "cell_type": "code",
      "execution_count": 20,
      "metadata": {
        "id": "uX0Em1hXzVUj",
        "outputId": "3397c9d8-b80f-443b-ed5a-443d4bc8f343",
        "colab": {
          "base_uri": "https://localhost:8080/"
        }
      },
      "outputs": [
        {
          "output_type": "stream",
          "name": "stdout",
          "text": [
            "Overwriting input.dat\n"
          ]
        }
      ],
      "source": [
        "%%writefile input.dat\n",
        "6\n",
        "30 35\n",
        "35 15\n",
        "15 5\n",
        "5 10\n",
        "10 20\n",
        "20 25"
      ],
      "id": "uX0Em1hXzVUj"
    },
    {
      "cell_type": "code",
      "execution_count": null,
      "metadata": {
        "id": "Sx2J7HVAzVUj"
      },
      "outputs": [],
      "source": [
        "%%writefile test.py\n",
        "n = int(input())\n",
        "p = [None] * (n + 1)\n",
        "m = [[0] * (n + 1) for _ in range(n + 1)]\n",
        "\n",
        "for i in range(1, n + 1):\n",
        "  p[i - 1], p[i] = map(int, input().split())\n",
        "\n",
        "for l in range(1, n + 1):\n",
        "  for i in range(1, n - l + 2):\n",
        "    i = i + l - 1\n",
        "    m[i][j] = 10==100\n",
        "    for k in range(i,j):\n",
        "      p = m[i][k\n",
        "\n",
        "print(m[1][n])"
      ],
      "id": "Sx2J7HVAzVUj"
    },
    {
      "cell_type": "code",
      "execution_count": null,
      "metadata": {
        "id": "QVE1h6aDzVUj"
      },
      "outputs": [],
      "source": [
        "!python3 test.py < input.dat"
      ],
      "id": "QVE1h6aDzVUj"
    },
    {
      "cell_type": "code",
      "source": [
        "def matrix_chain_order(dimensions):\n",
        "    n = len(dimensions) - 1\n",
        "    m = [[0] * n for _ in range(n)]\n",
        "    s = [[0] * n for _ in range(n)]\n",
        "    parens = [[f\"A{i+1}\" for i in range(n)] for _ in range(n)]\n",
        "\n",
        "    for l in range(2, n + 1):\n",
        "        for i in range(n - l + 1):\n",
        "            j = i + l - 1\n",
        "            m[i][j] = float('inf')\n",
        "            for k in range(i, j):\n",
        "                q = m[i][k] + m[k + 1][j] + dimensions[i] * dimensions[k + 1] * dimensions[j + 1]\n",
        "                if q < m[i][j]:\n",
        "                    m[i][j] = q\n",
        "                    s[i][j] = k\n",
        "                    parens[i][j] = f\"({parens[i][k]}{parens[k+1][j]})\"\n",
        "    return m, s, parens\n",
        "\n",
        "def print_optimal_parens(s, i, j):\n",
        "    if i == j:\n",
        "        print(f\"A{i+1}\", end=\"\")\n",
        "    else:\n",
        "        print(\"(\", end=\"\")\n",
        "        print_optimal_parens(s, i, s[i][j])\n",
        "        print_optimal_parens(s, s[i][j] +1, j)\n",
        "        print(\")\", end=\"\")\n",
        "\n",
        "dimensions = [13, 30, 8, 4, 41]\n",
        "print(\"行列の次元:\", dimensions)\n",
        "m, s, parens = matrix_chain_order(dimensions)\n",
        "print(\"\\n最適な括弧付け:\")\n",
        "print_optimal_parens(s, 0, len(dimensions) - 2)\n",
        "print(\"\\n最小の乗算回数:\", m[0][len(dimensions) - 2])"
      ],
      "metadata": {
        "id": "tUeofWJJH_7E",
        "outputId": "2fa20974-16f5-4b5a-e024-25c68ed4d99e",
        "colab": {
          "base_uri": "https://localhost:8080/"
        }
      },
      "id": "tUeofWJJH_7E",
      "execution_count": 21,
      "outputs": [
        {
          "output_type": "stream",
          "name": "stdout",
          "text": [
            "行列の次元: [13, 30, 8, 4, 41]\n",
            "\n",
            "最適な括弧付け:\n",
            "((A1(A2A3))A4)\n",
            "最小の乗算回数: 4652\n"
          ]
        }
      ]
    },
    {
      "cell_type": "markdown",
      "source": [
        "♠行列の積はNumPyで計算するのが一般的である。`M1`, `M2`, `M3`の積を計算するときに，ここで扱ったようなことは考慮されるか？"
      ],
      "metadata": {
        "id": "TK6uVhn0zVUj"
      },
      "id": "TK6uVhn0zVUj"
    },
    {
      "cell_type": "markdown",
      "source": [
        "## 宿題"
      ],
      "metadata": {
        "id": "N_Sws62AzVUj"
      },
      "id": "N_Sws62AzVUj"
    },
    {
      "cell_type": "markdown",
      "source": [
        "\n",
        "以下の問題をAC（Accepted）にする。Pythonを使うこと。\n",
        "\n",
        "-   [ALDS1_10_A](https://onlinejudge.u-aizu.ac.jp/courses/lesson/1/ALDS1/10/ALDS1_10_A) (Fibonacci Numbers)\n",
        "-   ♠[049 - Fibonacci Easy (mod 1000000007)](https://atcoder.jp/contests/math-and-algorithm/tasks/math_and_algorithm_ap)\n",
        "-   ♠[054 - Fibonacci Hard (mod 1000000000)](https://atcoder.jp/contests/math-and-algorithm/tasks/math_and_algorithm_at)）\n",
        "-   [ALDS1_10_C](https://onlinejudge.u-aizu.ac.jp/courses/lesson/1/ALDS1/10/ALDS1_10_C) (Longest Common Subsequence)\n",
        "-   [ALDS1_10_B](https://onlinejudge.u-aizu.ac.jp/courses/lesson/1/ALDS1/10/ALDS1_10_B) (Matrix Chain Multiplication)\n",
        "\n",
        "以上"
      ],
      "metadata": {
        "id": "JP3K13AFzVUk"
      },
      "id": "JP3K13AFzVUk"
    }
  ],
  "nbformat": 4,
  "nbformat_minor": 5,
  "metadata": {
    "colab": {
      "provenance": []
    },
    "language_info": {
      "name": "python"
    },
    "kernelspec": {
      "name": "python3",
      "display_name": "Python 3"
    }
  }
}