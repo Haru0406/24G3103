{
  "cells": [
    {
      "cell_type": "markdown",
      "source": [
        "# 6 再帰・分割統治法"
      ],
      "metadata": {
        "id": "9wO-VwvYuk8Y"
      },
      "id": "9wO-VwvYuk8Y"
    },
    {
      "cell_type": "markdown",
      "source": [],
      "metadata": {
        "id": "M8PVFrzSuk8a"
      },
      "id": "M8PVFrzSuk8a"
    },
    {
      "cell_type": "markdown",
      "source": [
        "## 6.1 再帰と分割統治：問題にチャレンジする前に"
      ],
      "metadata": {
        "id": "-u-DSVDFuk8b"
      },
      "id": "-u-DSVDFuk8b"
    },
    {
      "cell_type": "markdown",
      "source": [],
      "metadata": {
        "id": "UqeJGBdTuk8b"
      },
      "id": "UqeJGBdTuk8b"
    },
    {
      "cell_type": "markdown",
      "source": [
        "### 階乗"
      ],
      "metadata": {
        "id": "8k0R8H79uk8c"
      },
      "id": "8k0R8H79uk8c"
    },
    {
      "cell_type": "markdown",
      "source": [
        "\n",
        "問題：[abc273_a](https://atcoder.jp/contests/abc273/tasks/abc273_a) (A Recursive Function)"
      ],
      "metadata": {
        "id": "muXz70N1uk8c"
      },
      "id": "muXz70N1uk8c"
    },
    {
      "cell_type": "markdown",
      "source": [
        "### 1 2 1 3 1 2 1"
      ],
      "metadata": {
        "id": "CEcm9vk9uk8c"
      },
      "id": "CEcm9vk9uk8c"
    },
    {
      "cell_type": "markdown",
      "source": [
        "\n",
        "再帰の練習のための問題\n",
        "\n",
        "問題：[abc247_c](https://atcoder.jp/contests/abc247/tasks/abc247_c) (1 2 1 3 1 2 1)"
      ],
      "metadata": {
        "id": "QRmy5Cpmuk8d"
      },
      "id": "QRmy5Cpmuk8d"
    },
    {
      "cell_type": "markdown",
      "source": [
        "### 最大公約数（教科書p.441）"
      ],
      "metadata": {
        "id": "ldB-pyL8uk8d"
      },
      "id": "ldB-pyL8uk8d"
    },
    {
      "cell_type": "markdown",
      "source": [
        "\n",
        "問題：[ALDS1_1_B](https://onlinejudge.u-aizu.ac.jp/courses/lesson/1/ALDS1/1/ALDS1_1_B) (Greatest Common Divisor)\n",
        "\n",
        "Program 18.5を実装して提出するとTLEになる。"
      ],
      "metadata": {
        "id": "GrMqe-FWuk8d"
      },
      "id": "GrMqe-FWuk8d"
    },
    {
      "cell_type": "code",
      "execution_count": null,
      "metadata": {
        "id": "X2cDRhWjuk8e"
      },
      "outputs": [],
      "source": [
        "def gcd(x, y):\n",
        "  n = min(x, y)\n",
        "  for d in range(n, 0, -1):\n",
        "    if x % d == 0 and y % d == 0:\n",
        "      return d\n",
        "\n",
        "x, y = map(int, input().split())\n",
        "print(gcd(x, y))"
      ],
      "id": "X2cDRhWjuk8e"
    },
    {
      "cell_type": "markdown",
      "source": [
        "> ここでEuclidのアルゴリズムを示しておくことは，無意味ではあるまい。（TAOCP 1）\n",
        "\n",
        "アルゴリズム図鑑"
      ],
      "metadata": {
        "id": "uPyuNFz4uk8f"
      },
      "id": "uPyuNFz4uk8f"
    },
    {
      "cell_type": "markdown",
      "source": [
        "## 6.2 全探索"
      ],
      "metadata": {
        "id": "Hu8Rta-Ruk8f"
      },
      "id": "Hu8Rta-Ruk8f"
    },
    {
      "cell_type": "markdown",
      "source": [
        "\n",
        "練習：{1, 2, 3}の部分集合を全て列挙する。"
      ],
      "metadata": {
        "id": "wKDmcJJ5uk8f"
      },
      "id": "wKDmcJJ5uk8f"
    },
    {
      "cell_type": "code",
      "execution_count": null,
      "metadata": {
        "id": "UpRN3p7Puk8f"
      },
      "outputs": [],
      "source": [
        "A = [1, 2, 3]\n",
        "\n",
        "def subset(A, s):\n",
        "  if len(A) == 0:\n",
        "    print(s)\n",
        "  else:\n",
        "    subset(A[1:], s + [A[0]])\n",
        "    subset(A[1:], s)\n",
        "\n",
        "subset(A, [])"
      ],
      "id": "UpRN3p7Puk8f"
    },
    {
      "cell_type": "markdown",
      "source": [
        "問題：[ALDS1_5_A](https://onlinejudge.u-aizu.ac.jp/courses/lesson/1/ALDS1/5/ALDS1_5_A) (Exhaustive Search)\n",
        "\n",
        "まずは，Program 6.4をPythonで実装して，次のコードで動作を確認する。"
      ],
      "metadata": {
        "id": "FQ7XwoQauk8g"
      },
      "id": "FQ7XwoQauk8g"
    },
    {
      "cell_type": "code",
      "execution_count": null,
      "metadata": {
        "id": "q5q1fh-2uk8g"
      },
      "outputs": [],
      "source": [
        "# ここでsolve(i, m)を定義する。\n",
        "\n",
        "A = [1, 5, 7]\n",
        "n = len(A)\n",
        "solve(0, 8)"
      ],
      "id": "q5q1fh-2uk8g"
    },
    {
      "cell_type": "markdown",
      "source": [
        "それができたら，データを読み込んで処理できるようにする。"
      ],
      "metadata": {
        "id": "8WVpIjpyuk8g"
      },
      "id": "8WVpIjpyuk8g"
    },
    {
      "cell_type": "code",
      "execution_count": 1,
      "metadata": {
        "id": "2252KemEuk8g",
        "outputId": "b3c5adbb-b866-4f88-c66a-db8b6d559643",
        "colab": {
          "base_uri": "https://localhost:8080/"
        }
      },
      "outputs": [
        {
          "output_type": "stream",
          "name": "stdout",
          "text": [
            "Writing input.dat\n"
          ]
        }
      ],
      "source": [
        "%%writefile input.dat\n",
        "5\n",
        "1 5 7 10 21\n",
        "4\n",
        "2 4 17 8"
      ],
      "id": "2252KemEuk8g"
    },
    {
      "cell_type": "code",
      "execution_count": null,
      "metadata": {
        "id": "LBp8itn2uk8g"
      },
      "outputs": [],
      "source": [
        "%%writefile test.py\n",
        "n = ...\n",
        "A = ...\n",
        "q = ...\n",
        "m = ...\n",
        "\n",
        "for x in m:\n",
        "..."
      ],
      "id": "LBp8itn2uk8g"
    },
    {
      "cell_type": "markdown",
      "source": [
        "``` coede\n",
        "!python3 test.py < input.dat\n",
        "```\n",
        "\n",
        "TLEになってしまう場合：\n",
        "\n",
        "-   PyPy3を使う。\n",
        "-   ♠Aの部分集合で作れる数を全て求めて集合にしておいて，mについてのループで探索する。（mの要素ごとに全探索するのは効率が悪い。）"
      ],
      "metadata": {
        "id": "Le-38e3yuk8h"
      },
      "id": "Le-38e3yuk8h"
    },
    {
      "cell_type": "markdown",
      "source": [
        "## ♠6.3 コッホ曲線"
      ],
      "metadata": {
        "id": "uScFxnaPuk8h"
      },
      "id": "uScFxnaPuk8h"
    },
    {
      "cell_type": "markdown",
      "source": [
        "\n",
        "♠回転を考えない，シェルピンスキーの三角形の方が，再帰の練習には向いていると思う。\n",
        "\n",
        "> Google Colabで実行できる，シェルピンスキーの三角形をPythonで描くコード。再帰の回数を指定できるようにして\n",
        "\n",
        "（割愛）\n",
        "\n",
        "問題：[ALDS1_5_C](https://onlinejudge.u-aizu.ac.jp/courses/lesson/1/ALDS1/5/ALDS1_5_C) (Koch Curve)\n",
        "\n",
        "おまけ：コッホ曲線の描画\n",
        "\n",
        "正しく動くようになったら，次のように結果をoutput.datに保存して，それを読み込んで可視化する。"
      ],
      "metadata": {
        "id": "S996XwKuuk8h"
      },
      "id": "S996XwKuuk8h"
    },
    {
      "cell_type": "code",
      "execution_count": null,
      "metadata": {
        "id": "1Re4vpbZuk8h"
      },
      "outputs": [],
      "source": [
        "!python3 test.py < input.dat > output.dat"
      ],
      "id": "1Re4vpbZuk8h"
    },
    {
      "cell_type": "markdown",
      "source": [
        "出力例2で試す。"
      ],
      "metadata": {
        "id": "6QgoSWjIuk8h"
      },
      "id": "6QgoSWjIuk8h"
    },
    {
      "cell_type": "code",
      "execution_count": 2,
      "metadata": {
        "id": "k3focySvuk8h",
        "outputId": "ed1becf7-559f-4c12-b3b5-14040681b58c",
        "colab": {
          "base_uri": "https://localhost:8080/"
        }
      },
      "outputs": [
        {
          "output_type": "stream",
          "name": "stdout",
          "text": [
            "Writing output.dat\n"
          ]
        }
      ],
      "source": [
        "%%writefile output.dat\n",
        "0.00000000 0.00000000\n",
        "11.11111111 0.00000000\n",
        "16.66666667 9.62250449\n",
        "22.22222222 0.00000000\n",
        "33.33333333 0.00000000\n",
        "38.88888889 9.62250449\n",
        "33.33333333 19.24500897\n",
        "44.44444444 19.24500897\n",
        "50.00000000 28.86751346\n",
        "55.55555556 19.24500897\n",
        "66.66666667 19.24500897\n",
        "61.11111111 9.62250449\n",
        "66.66666667 0.00000000\n",
        "77.77777778 0.00000000\n",
        "83.33333333 9.62250449\n",
        "88.88888889 0.00000000\n",
        "100.00000000 0.00000000"
      ],
      "id": "k3focySvuk8h"
    },
    {
      "cell_type": "markdown",
      "source": [
        "> 1行に1個，点の座標が記録されたファイルoutput.datを読み込んで，点を順番に直線で結んだ結果を描く。\n",
        "\n",
        "生成されるコードの例を示す。"
      ],
      "metadata": {
        "id": "5IBlU3heuk8i"
      },
      "id": "5IBlU3heuk8i"
    },
    {
      "cell_type": "code",
      "execution_count": null,
      "metadata": {
        "id": "2fkqtdMHuk8i"
      },
      "outputs": [],
      "source": [
        "import matplotlib.pyplot as plt\n",
        "\n",
        "# ファイルから座標を読み込む\n",
        "points = []\n",
        "with open(\"output.dat\") as f:\n",
        "  for line in f:\n",
        "    x, y = map(float, line.strip().split())\n",
        "    points.append((x, y))\n",
        "\n",
        "# x座標とy座標に分割\n",
        "xs, ys = zip(*points)\n",
        "\n",
        "# 直線で結ぶ\n",
        "plt.plot(xs, ys, marker='o')  # 点も見えるように marker をつける\n",
        "plt.title(\"Points from output.dat\")\n",
        "plt.xlabel(\"X\")\n",
        "plt.ylabel(\"Y\")\n",
        "plt.grid(True)\n",
        "plt.axis(\"equal\")  # 比率を正確にする\n",
        "plt.show()"
      ],
      "id": "2fkqtdMHuk8i"
    },
    {
      "cell_type": "markdown",
      "source": [
        "## 宿題"
      ],
      "metadata": {
        "id": "y2QCgyjBuk8i"
      },
      "id": "y2QCgyjBuk8i"
    },
    {
      "cell_type": "markdown",
      "source": [
        "\n",
        "以下の問題をAC（Accepted）にする。Pythonを使うこと。\n",
        "\n",
        "-   [abc273_a](https://atcoder.jp/contests/abc273/tasks/abc273_a) (A Recursive Function)\n",
        "-   [abc247_c](https://atcoder.jp/contests/abc247/tasks/abc247_c) (1 2 1 3 1 2 1)\n",
        "-   [ALDS1_1_B](https://onlinejudge.u-aizu.ac.jp/courses/lesson/1/ALDS1/1/ALDS1_1_B) (Greatest Common Divisor)\n",
        "-   [ALDS1_5_A](https://onlinejudge.u-aizu.ac.jp/courses/lesson/1/ALDS1/5/ALDS1_5_A) (Exhaustive Search)\n",
        "-   ♠[ALDS1_5_C](https://onlinejudge.u-aizu.ac.jp/courses/lesson/1/ALDS1/5/ALDS1_5_C) (Koch Curve)\n",
        "\n",
        "以上"
      ],
      "metadata": {
        "id": "2loevteVuk8i"
      },
      "id": "2loevteVuk8i"
    }
  ],
  "nbformat": 4,
  "nbformat_minor": 5,
  "metadata": {
    "colab": {
      "provenance": []
    },
    "language_info": {
      "name": "python"
    },
    "kernelspec": {
      "name": "python3",
      "display_name": "Python 3"
    }
  }
}