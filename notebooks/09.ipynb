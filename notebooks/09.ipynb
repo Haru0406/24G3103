{
  "cells": [
    {
      "cell_type": "markdown",
      "source": [
        "# 二分探索木"
      ],
      "metadata": {
        "id": "CBDLLO9Z6zSo"
      },
      "id": "CBDLLO9Z6zSo"
    },
    {
      "cell_type": "markdown",
      "source": [],
      "metadata": {
        "id": "Ow8qJae66zSv"
      },
      "id": "Ow8qJae66zSv"
    },
    {
      "cell_type": "markdown",
      "source": [
        "## 二分探索木：問題にチャレンジする前に"
      ],
      "metadata": {
        "id": "9SOH74vq6zSv"
      },
      "id": "9SOH74vq6zSv"
    },
    {
      "cell_type": "markdown",
      "source": [],
      "metadata": {
        "id": "k8KbsGfF6zSw"
      },
      "id": "k8KbsGfF6zSw"
    },
    {
      "cell_type": "markdown",
      "source": [
        "### トレードオフ"
      ],
      "metadata": {
        "id": "M4VMXhVb6zSw"
      },
      "id": "M4VMXhVb6zSw"
    },
    {
      "cell_type": "markdown",
      "source": [
        "\n",
        "| データ構造              | 探索        | 挿入        | 削除        |\n",
        "|-------------------------|-------------|-------------|-------------|\n",
        "| 配列（Python のリスト） | $O(n)$      | $O(n)$      | $O(n)$      |\n",
        "| 整列済み配列            | $O(\\log n)$ | $O(n)$      | $O(n)$      |\n",
        "| 双方向連結リスト        | $O(n)$      | $O(1)$      | $O(1)$      |\n",
        "| **二分探索木**          | $O(\\log n)$ | $O(\\log n)$ | $O(\\log n)$ |"
      ],
      "metadata": {
        "id": "kqcu0pij6zSx"
      },
      "id": "kqcu0pij6zSx"
    },
    {
      "cell_type": "markdown",
      "source": [
        "### クラス図"
      ],
      "metadata": {
        "id": "Qv7nwnsh6zSy"
      },
      "id": "Qv7nwnsh6zSy"
    },
    {
      "cell_type": "markdown",
      "source": [
        "\n",
        "この資料の最後（全てのクラスが定義できたもの）のコードをAIに渡して，次のプロンプトを実行する。\n",
        "\n",
        "> Google Colab内で有効なクラス図を描いて<br>（ここにコードを貼り付ける）"
      ],
      "metadata": {
        "id": "tgXLdjKH6zSy"
      },
      "id": "tgXLdjKH6zSy"
    },
    {
      "cell_type": "code",
      "execution_count": null,
      "metadata": {
        "id": "2HtvCqBH6zSz"
      },
      "outputs": [],
      "source": [
        "# ------------------ クラス図を描くセル ------------------\n",
        "from graphviz import Digraph\n",
        "from IPython.display import Image, display\n",
        "\n",
        "dot = Digraph(comment='BST Classes', format='png')\n",
        "dot.attr('node', shape='record', fontsize='11')\n",
        "\n",
        "# 各クラス（フィールド／主なメソッドは必要に応じて省略・追加可）\n",
        "dot.node('Node',\n",
        "          '{Node| key : int\\\\l parent : Node\\\\l left : Node\\\\l right : Node\\\\l}')\n",
        "\n",
        "dot.node('Tree',\n",
        "          '{Tree| root : Node\\\\l| insert(z)\\\\l}')\n",
        "\n",
        "dot.node('Tree2',\n",
        "          '{Tree2| | find(k) : Node\\\\l}')\n",
        "\n",
        "dot.node('Tree3',\n",
        "          '{Tree3| | getMinimum(x) : Node\\\\l deleteNode(z) : None\\\\l}')\n",
        "\n",
        "# 継承（open-arrow で「空継承」を表現）\n",
        "dot.edge('Tree2', 'Tree', arrowhead='empty')\n",
        "dot.edge('Tree3', 'Tree2', arrowhead='empty')\n",
        "\n",
        "# 描画して Colab 上に表示\n",
        "diagram_path = dot.render(filename='bst_classes')\n",
        "display(Image(filename=diagram_path))"
      ],
      "id": "2HtvCqBH6zSz"
    },
    {
      "cell_type": "markdown",
      "source": [
        "## 二分探索木：挿入"
      ],
      "metadata": {
        "id": "PLEydfT_6zS1"
      },
      "id": "PLEydfT_6zS1"
    },
    {
      "cell_type": "markdown",
      "source": [
        "\n",
        "問題：[ALDS1_8_A](https://onlinejudge.u-aizu.ac.jp/courses/lesson/1/ALDS1/8/ALDS1_8_A) (Binary Search Tree I)\n",
        "\n",
        "ちなみに，中間順巡回と先行順巡回を確認して後行順巡回を確認しないのは，前の二つだけ木が決まるからである（教科書8.5節を参照）。"
      ],
      "metadata": {
        "id": "imG1P7oS6zS1"
      },
      "id": "imG1P7oS6zS1"
    },
    {
      "cell_type": "code",
      "execution_count": null,
      "metadata": {
        "id": "Kc24j-sV6zS1"
      },
      "outputs": [],
      "source": [
        "%%writefile input.dat\n",
        "8\n",
        "insert 30\n",
        "insert 88\n",
        "insert 12\n",
        "insert 1\n",
        "insert 20\n",
        "insert 17\n",
        "insert 25\n",
        "print"
      ],
      "id": "Kc24j-sV6zS1"
    },
    {
      "cell_type": "code",
      "execution_count": null,
      "metadata": {
        "id": "KpEju2hg6zS2"
      },
      "outputs": [],
      "source": [
        "%%writefile test.py\n",
        "def preParse(u):\n",
        "  if u is None: return\n",
        "  print(f' {u.key}', end='')\n",
        "  preParse(u.left)\n",
        "  preParse(u.right)\n",
        "\n",
        "def inParse(u):\n",
        "  if u is None: return\n",
        "  inParse(u.left)\n",
        "  print(f' {u.key}', end='')\n",
        "  inParse(u.right)\n",
        "\n",
        "class Node:\n",
        "  def __init__(self, key):\n",
        "    self.key = key\n",
        "    self.parent = None\n",
        "    self.left = None\n",
        "    self.right = None\n",
        "\n",
        "class Tree:\n",
        "  def __init__(self):\n",
        "    self.root = None\n",
        "\n",
        "  def insert(self, z):\n",
        "    x = self.root\n",
        "    y = None\n",
        "    while x is not None:\n",
        "      y = x\n",
        "      if z.key < x.key: x = x.left\n",
        "      else: x = x.right\n",
        "    z.parent = y\n",
        "    if y is None: self.root = z\n",
        "    elif z.key < y.key: y.left = z\n",
        "    else: y.right = z\n",
        "\n",
        "n = int(input())\n",
        "T = Tree()\n",
        "# T2 = Tree() # もう1本必要なら作ればよい。\n",
        "\n",
        "for _ in range(n):\n",
        "  com = input().split()\n",
        "  # 自分で書く。"
      ],
      "id": "KpEju2hg6zS2"
    },
    {
      "cell_type": "code",
      "execution_count": null,
      "metadata": {
        "id": "5RWUUOL26zS3"
      },
      "outputs": [],
      "source": [
        "!python3 test.py < input.dat"
      ],
      "id": "5RWUUOL26zS3"
    },
    {
      "cell_type": "markdown",
      "source": [
        "## 二分探索木：探索"
      ],
      "metadata": {
        "id": "gCKijLzl6zS3"
      },
      "id": "gCKijLzl6zS3"
    },
    {
      "cell_type": "markdown",
      "source": [
        "\n",
        "問題：[ALDS1_8_B](https://onlinejudge.u-aizu.ac.jp/courses/lesson/1/ALDS1/8/ALDS1_8_B) (Binary Search Tree II)"
      ],
      "metadata": {
        "id": "_j4b7D_96zS4"
      },
      "id": "_j4b7D_96zS4"
    },
    {
      "cell_type": "code",
      "execution_count": null,
      "metadata": {
        "id": "6-LMNEUL6zS4"
      },
      "outputs": [],
      "source": [
        "%%writefile input.dat\n",
        "10\n",
        "insert 30\n",
        "insert 88\n",
        "insert 12\n",
        "insert 1\n",
        "insert 20\n",
        "find 12\n",
        "insert 17\n",
        "insert 25\n",
        "find 16\n",
        "print"
      ],
      "id": "6-LMNEUL6zS4"
    },
    {
      "cell_type": "code",
      "execution_count": null,
      "metadata": {
        "id": "1pAKtX276zS4"
      },
      "outputs": [],
      "source": [
        "%%writefile test.py\n",
        "# preParse, inParse の定義（前と同じ）\n",
        "\n",
        "# Nodeの定義（前と同じ）\n",
        "\n",
        "# Treeの定義（前と同じ）\n",
        "\n",
        "class Tree2(Tree):\n",
        "  def find(self, k):\n",
        "    x = self.root\n",
        "    while x is not None and k != x.key:\n",
        "      if k < x.key: x = x.left\n",
        "      else: x = x.right\n",
        "    return x\n",
        "\n",
        "n = int(input())\n",
        "T = Tree2()\n",
        "\n",
        "for _ in range(n):\n",
        "  com = input().split()\n",
        "  # insertとprint（前と同じ）\n",
        "  # findについて，自分で書く。"
      ],
      "id": "1pAKtX276zS4"
    },
    {
      "cell_type": "code",
      "source": [
        "find(x, k)\n",
        "while x ! = NIL and k != x.key:\n",
        "  if k < x.key: x = x.left\n",
        "  else: x = x.right\n",
        "  return x"
      ],
      "metadata": {
        "id": "5ja9kBLQ8tXE"
      },
      "id": "5ja9kBLQ8tXE",
      "execution_count": null,
      "outputs": []
    },
    {
      "cell_type": "markdown",
      "source": [
        "問題を読む。すぐに作れるわけがないので教科書を見ながら二次コードを作り、パイソンで翻訳させる。わからなければAIに聞く。"
      ],
      "metadata": {
        "id": "q0svbJ5x9Xxj"
      },
      "id": "q0svbJ5x9Xxj"
    },
    {
      "cell_type": "markdown",
      "source": [
        "ACになった事態で終わりではない。そのあとに理解を深める。\n",
        "累積値を後ろから調べることになっているが、前から調べるとどうなる？"
      ],
      "metadata": {
        "id": "8ADSBtb0-BVn"
      },
      "id": "8ADSBtb0-BVn"
    },
    {
      "cell_type": "markdown",
      "source": [
        "## 二分探索木：削除"
      ],
      "metadata": {
        "id": "83j7qFhN6zS5"
      },
      "id": "83j7qFhN6zS5"
    },
    {
      "cell_type": "markdown",
      "source": [
        "\n",
        "問題：[ALDS1_8_C](https://onlinejudge.u-aizu.ac.jp/courses/lesson/1/ALDS1/8/ALDS1_8_C) (Binary Search Tree III)"
      ],
      "metadata": {
        "id": "O1wsix_-6zS5"
      },
      "id": "O1wsix_-6zS5"
    },
    {
      "cell_type": "code",
      "execution_count": 1,
      "metadata": {
        "id": "GurQDBlC6zS5",
        "outputId": "055afa35-3894-43a5-efa1-a2b586342fe1",
        "colab": {
          "base_uri": "https://localhost:8080/"
        }
      },
      "outputs": [
        {
          "output_type": "stream",
          "name": "stdout",
          "text": [
            "Writing input.dat\n"
          ]
        }
      ],
      "source": [
        "%%writefile input.dat\n",
        "18\n",
        "insert 8\n",
        "insert 2\n",
        "insert 3\n",
        "insert 7\n",
        "insert 22\n",
        "insert 1\n",
        "find 1\n",
        "find 2\n",
        "find 3\n",
        "find 4\n",
        "find 5\n",
        "find 6\n",
        "find 7\n",
        "find 8\n",
        "print\n",
        "delete 3\n",
        "delete 7\n",
        "print"
      ],
      "id": "GurQDBlC6zS5"
    },
    {
      "cell_type": "code",
      "execution_count": 2,
      "metadata": {
        "id": "P7C-WMip6zS6",
        "outputId": "2744c99b-b47e-4ffb-d4a3-ccce92e132f0",
        "colab": {
          "base_uri": "https://localhost:8080/"
        }
      },
      "outputs": [
        {
          "output_type": "stream",
          "name": "stdout",
          "text": [
            "Writing test.py\n"
          ]
        }
      ],
      "source": [
        "%%writefile test.py\n",
        "# Tree2の定義までは前と同じ\n",
        "\n",
        "class Tree3(Tree2):\n",
        "  def getMinimum(self, x):\n",
        "    while x.left is not None: x = x.left\n",
        "    return x\n",
        "\n",
        "  def deleteNode(self, z):\n",
        "    if z.left is None or z.right is None:\n",
        "      y = z\n",
        "    else:\n",
        "      y = self.getMinimum(z.right) # 教科書のgetSuccessor()は不要\n",
        "\n",
        "    # y に残っている唯一の子を x とする\n",
        "    x = y.left if y.left is not None else y.right\n",
        "\n",
        "    # x が存在すれば親ポインタを貼り替え\n",
        "    if x is not None: x.parent = y.parent\n",
        "\n",
        "    # 木の根または親の子ポインタを置換（transplant）\n",
        "    if y.parent is None: self.root = x\n",
        "    elif y == y.parent.left: y.parent.left = x\n",
        "    else: y.parent.right = x\n",
        "\n",
        "    # もし “論理的に削除したいノード” と “実際に削除したノード”が異なればキーをコピーして完了\n",
        "    if y != z: z.key = y.key\n",
        "\n",
        "n = int(input())\n",
        "T = Tree3()\n",
        "\n",
        "for _ in range(n):\n",
        "  com = input().split()\n",
        "  #findの処理まで前と同じ\n",
        "  #deleteについて，自分で書く。"
      ],
      "id": "P7C-WMip6zS6"
    },
    {
      "cell_type": "code",
      "execution_count": null,
      "metadata": {
        "id": "9uhPY4zK6zS6"
      },
      "outputs": [],
      "source": [
        "!python3 test.py < input.dat"
      ],
      "id": "9uhPY4zK6zS6"
    }
  ],
  "nbformat": 4,
  "nbformat_minor": 5,
  "metadata": {
    "colab": {
      "provenance": [],
      "toc_visible": true
    },
    "language_info": {
      "name": "python"
    },
    "kernelspec": {
      "name": "python3",
      "display_name": "Python 3"
    }
  }
}